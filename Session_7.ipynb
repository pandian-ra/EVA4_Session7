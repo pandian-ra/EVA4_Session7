{
  "nbformat": 4,
  "nbformat_minor": 0,
  "metadata": {
    "colab": {
      "name": "Session_7.ipynb",
      "provenance": [],
      "collapsed_sections": [],
      "include_colab_link": true
    },
    "kernelspec": {
      "name": "python3",
      "display_name": "Python 3"
    },
    "accelerator": "GPU",
    "widgets": {
      "application/vnd.jupyter.widget-state+json": {
        "af6df37dd583485d8d52e9797d0b2c8a": {
          "model_module": "@jupyter-widgets/controls",
          "model_name": "HBoxModel",
          "state": {
            "_view_name": "HBoxView",
            "_dom_classes": [],
            "_model_name": "HBoxModel",
            "_view_module": "@jupyter-widgets/controls",
            "_model_module_version": "1.5.0",
            "_view_count": null,
            "_view_module_version": "1.5.0",
            "box_style": "",
            "layout": "IPY_MODEL_cc2bb95ad6b34f98b9f50abd303318d0",
            "_model_module": "@jupyter-widgets/controls",
            "children": [
              "IPY_MODEL_43860e5883964a0dac445a587f184d74",
              "IPY_MODEL_d2d338bb0c0d42229b8a0cb552794047"
            ]
          }
        },
        "cc2bb95ad6b34f98b9f50abd303318d0": {
          "model_module": "@jupyter-widgets/base",
          "model_name": "LayoutModel",
          "state": {
            "_view_name": "LayoutView",
            "grid_template_rows": null,
            "right": null,
            "justify_content": null,
            "_view_module": "@jupyter-widgets/base",
            "overflow": null,
            "_model_module_version": "1.2.0",
            "_view_count": null,
            "flex_flow": null,
            "width": null,
            "min_width": null,
            "border": null,
            "align_items": null,
            "bottom": null,
            "_model_module": "@jupyter-widgets/base",
            "top": null,
            "grid_column": null,
            "overflow_y": null,
            "overflow_x": null,
            "grid_auto_flow": null,
            "grid_area": null,
            "grid_template_columns": null,
            "flex": null,
            "_model_name": "LayoutModel",
            "justify_items": null,
            "grid_row": null,
            "max_height": null,
            "align_content": null,
            "visibility": null,
            "align_self": null,
            "height": null,
            "min_height": null,
            "padding": null,
            "grid_auto_rows": null,
            "grid_gap": null,
            "max_width": null,
            "order": null,
            "_view_module_version": "1.2.0",
            "grid_template_areas": null,
            "object_position": null,
            "object_fit": null,
            "grid_auto_columns": null,
            "margin": null,
            "display": null,
            "left": null
          }
        },
        "43860e5883964a0dac445a587f184d74": {
          "model_module": "@jupyter-widgets/controls",
          "model_name": "IntProgressModel",
          "state": {
            "_view_name": "ProgressView",
            "style": "IPY_MODEL_34faea7aa43d43d6b564f49dea9fbce9",
            "_dom_classes": [],
            "description": "",
            "_model_name": "IntProgressModel",
            "bar_style": "info",
            "max": 1,
            "_view_module": "@jupyter-widgets/controls",
            "_model_module_version": "1.5.0",
            "value": 1,
            "_view_count": null,
            "_view_module_version": "1.5.0",
            "orientation": "horizontal",
            "min": 0,
            "description_tooltip": null,
            "_model_module": "@jupyter-widgets/controls",
            "layout": "IPY_MODEL_5d6f25afa40747d4ba06d9391cbe595e"
          }
        },
        "d2d338bb0c0d42229b8a0cb552794047": {
          "model_module": "@jupyter-widgets/controls",
          "model_name": "HTMLModel",
          "state": {
            "_view_name": "HTMLView",
            "style": "IPY_MODEL_b538d986059f4fa5a021dbc989d987fb",
            "_dom_classes": [],
            "description": "",
            "_model_name": "HTMLModel",
            "placeholder": "​",
            "_view_module": "@jupyter-widgets/controls",
            "_model_module_version": "1.5.0",
            "value": "170500096it [00:30, 15953533.96it/s]",
            "_view_count": null,
            "_view_module_version": "1.5.0",
            "description_tooltip": null,
            "_model_module": "@jupyter-widgets/controls",
            "layout": "IPY_MODEL_759ee124fae346d9aa2e1e9769782b2c"
          }
        },
        "34faea7aa43d43d6b564f49dea9fbce9": {
          "model_module": "@jupyter-widgets/controls",
          "model_name": "ProgressStyleModel",
          "state": {
            "_view_name": "StyleView",
            "_model_name": "ProgressStyleModel",
            "description_width": "",
            "_view_module": "@jupyter-widgets/base",
            "_model_module_version": "1.5.0",
            "_view_count": null,
            "_view_module_version": "1.2.0",
            "bar_color": null,
            "_model_module": "@jupyter-widgets/controls"
          }
        },
        "5d6f25afa40747d4ba06d9391cbe595e": {
          "model_module": "@jupyter-widgets/base",
          "model_name": "LayoutModel",
          "state": {
            "_view_name": "LayoutView",
            "grid_template_rows": null,
            "right": null,
            "justify_content": null,
            "_view_module": "@jupyter-widgets/base",
            "overflow": null,
            "_model_module_version": "1.2.0",
            "_view_count": null,
            "flex_flow": null,
            "width": null,
            "min_width": null,
            "border": null,
            "align_items": null,
            "bottom": null,
            "_model_module": "@jupyter-widgets/base",
            "top": null,
            "grid_column": null,
            "overflow_y": null,
            "overflow_x": null,
            "grid_auto_flow": null,
            "grid_area": null,
            "grid_template_columns": null,
            "flex": null,
            "_model_name": "LayoutModel",
            "justify_items": null,
            "grid_row": null,
            "max_height": null,
            "align_content": null,
            "visibility": null,
            "align_self": null,
            "height": null,
            "min_height": null,
            "padding": null,
            "grid_auto_rows": null,
            "grid_gap": null,
            "max_width": null,
            "order": null,
            "_view_module_version": "1.2.0",
            "grid_template_areas": null,
            "object_position": null,
            "object_fit": null,
            "grid_auto_columns": null,
            "margin": null,
            "display": null,
            "left": null
          }
        },
        "b538d986059f4fa5a021dbc989d987fb": {
          "model_module": "@jupyter-widgets/controls",
          "model_name": "DescriptionStyleModel",
          "state": {
            "_view_name": "StyleView",
            "_model_name": "DescriptionStyleModel",
            "description_width": "",
            "_view_module": "@jupyter-widgets/base",
            "_model_module_version": "1.5.0",
            "_view_count": null,
            "_view_module_version": "1.2.0",
            "_model_module": "@jupyter-widgets/controls"
          }
        },
        "759ee124fae346d9aa2e1e9769782b2c": {
          "model_module": "@jupyter-widgets/base",
          "model_name": "LayoutModel",
          "state": {
            "_view_name": "LayoutView",
            "grid_template_rows": null,
            "right": null,
            "justify_content": null,
            "_view_module": "@jupyter-widgets/base",
            "overflow": null,
            "_model_module_version": "1.2.0",
            "_view_count": null,
            "flex_flow": null,
            "width": null,
            "min_width": null,
            "border": null,
            "align_items": null,
            "bottom": null,
            "_model_module": "@jupyter-widgets/base",
            "top": null,
            "grid_column": null,
            "overflow_y": null,
            "overflow_x": null,
            "grid_auto_flow": null,
            "grid_area": null,
            "grid_template_columns": null,
            "flex": null,
            "_model_name": "LayoutModel",
            "justify_items": null,
            "grid_row": null,
            "max_height": null,
            "align_content": null,
            "visibility": null,
            "align_self": null,
            "height": null,
            "min_height": null,
            "padding": null,
            "grid_auto_rows": null,
            "grid_gap": null,
            "max_width": null,
            "order": null,
            "_view_module_version": "1.2.0",
            "grid_template_areas": null,
            "object_position": null,
            "object_fit": null,
            "grid_auto_columns": null,
            "margin": null,
            "display": null,
            "left": null
          }
        }
      }
    }
  },
  "cells": [
    {
      "cell_type": "markdown",
      "metadata": {
        "id": "view-in-github",
        "colab_type": "text"
      },
      "source": [
        "<a href=\"https://colab.research.google.com/github/pandian-raja/EVA4_Session7/blob/master/Session_7.ipynb\" target=\"_parent\"><img src=\"https://colab.research.google.com/assets/colab-badge.svg\" alt=\"Open In Colab\"/></a>"
      ]
    },
    {
      "cell_type": "code",
      "metadata": {
        "id": "nVBfJxnt0uO6",
        "colab_type": "code",
        "outputId": "5be3c472-7891-45b4-da5e-68eda60e47aa",
        "colab": {
          "base_uri": "https://localhost:8080/",
          "height": 207
        }
      },
      "source": [
        "!wget https://raw.githubusercontent.com/pandian-raja/EVA4_Session7/master/GetData.py"
      ],
      "execution_count": 4,
      "outputs": [
        {
          "output_type": "stream",
          "text": [
            "--2020-03-03 14:52:26--  https://raw.githubusercontent.com/pandian-raja/EVA4_Session7/master/GetData.py\n",
            "Resolving raw.githubusercontent.com (raw.githubusercontent.com)... 151.101.0.133, 151.101.64.133, 151.101.128.133, ...\n",
            "Connecting to raw.githubusercontent.com (raw.githubusercontent.com)|151.101.0.133|:443... connected.\n",
            "HTTP request sent, awaiting response... 200 OK\n",
            "Length: 1400 (1.4K) [text/plain]\n",
            "Saving to: ‘GetData.py’\n",
            "\n",
            "\rGetData.py            0%[                    ]       0  --.-KB/s               \rGetData.py          100%[===================>]   1.37K  --.-KB/s    in 0s      \n",
            "\n",
            "2020-03-03 14:52:26 (291 MB/s) - ‘GetData.py’ saved [1400/1400]\n",
            "\n"
          ],
          "name": "stdout"
        }
      ]
    },
    {
      "cell_type": "code",
      "metadata": {
        "id": "r6vj7NQQ0zx6",
        "colab_type": "code",
        "outputId": "c14229f7-3372-4e54-ff19-772e1fd3ce35",
        "colab": {
          "base_uri": "https://localhost:8080/",
          "height": 207
        }
      },
      "source": [
        "!wget https://raw.githubusercontent.com/pandian-raja/EVA4_Session7/master/Model.py"
      ],
      "execution_count": 5,
      "outputs": [
        {
          "output_type": "stream",
          "text": [
            "--2020-03-03 14:52:30--  https://raw.githubusercontent.com/pandian-raja/EVA4_Session7/master/Model.py\n",
            "Resolving raw.githubusercontent.com (raw.githubusercontent.com)... 151.101.0.133, 151.101.64.133, 151.101.128.133, ...\n",
            "Connecting to raw.githubusercontent.com (raw.githubusercontent.com)|151.101.0.133|:443... connected.\n",
            "HTTP request sent, awaiting response... 200 OK\n",
            "Length: 5219 (5.1K) [text/plain]\n",
            "Saving to: ‘Model.py’\n",
            "\n",
            "\rModel.py              0%[                    ]       0  --.-KB/s               \rModel.py            100%[===================>]   5.10K  --.-KB/s    in 0s      \n",
            "\n",
            "2020-03-03 14:52:31 (67.7 MB/s) - ‘Model.py’ saved [5219/5219]\n",
            "\n"
          ],
          "name": "stdout"
        }
      ]
    },
    {
      "cell_type": "code",
      "metadata": {
        "id": "GJVfRzkv00-_",
        "colab_type": "code",
        "outputId": "f5bf4fd7-bde8-45eb-c49d-ca098a6fde18",
        "colab": {
          "base_uri": "https://localhost:8080/",
          "height": 207
        }
      },
      "source": [
        "!wget https://raw.githubusercontent.com/pandian-raja/EVA4_Session7/master/train_and_validate.py"
      ],
      "execution_count": 6,
      "outputs": [
        {
          "output_type": "stream",
          "text": [
            "--2020-03-03 14:52:33--  https://raw.githubusercontent.com/pandian-raja/EVA4_Session7/master/train_and_validate.py\n",
            "Resolving raw.githubusercontent.com (raw.githubusercontent.com)... 151.101.0.133, 151.101.64.133, 151.101.128.133, ...\n",
            "Connecting to raw.githubusercontent.com (raw.githubusercontent.com)|151.101.0.133|:443... connected.\n",
            "HTTP request sent, awaiting response... 200 OK\n",
            "Length: 2731 (2.7K) [text/plain]\n",
            "Saving to: ‘train_and_validate.py’\n",
            "\n",
            "\rtrain_and_validate.   0%[                    ]       0  --.-KB/s               \rtrain_and_validate. 100%[===================>]   2.67K  --.-KB/s    in 0s      \n",
            "\n",
            "2020-03-03 14:52:34 (70.9 MB/s) - ‘train_and_validate.py’ saved [2731/2731]\n",
            "\n"
          ],
          "name": "stdout"
        }
      ]
    },
    {
      "cell_type": "code",
      "metadata": {
        "id": "SKq2oYer0-Sz",
        "colab_type": "code",
        "outputId": "c549bddf-4383-4d17-8bfb-adacced31a44",
        "colab": {
          "base_uri": "https://localhost:8080/",
          "height": 35
        }
      },
      "source": [
        "!pip install torchsummary\n",
        "from torchsummary import summary\n",
        "import GetData as gd\n",
        "import Model as md\n",
        "import train_and_validate as tv"
      ],
      "execution_count": 7,
      "outputs": [
        {
          "output_type": "stream",
          "text": [
            "Requirement already satisfied: torchsummary in /usr/local/lib/python3.6/dist-packages (1.5.1)\n"
          ],
          "name": "stdout"
        }
      ]
    },
    {
      "cell_type": "code",
      "metadata": {
        "id": "YSeB5QH51DFX",
        "colab_type": "code",
        "outputId": "607caaa9-d7fe-4578-db44-78c78ef57785",
        "colab": {
          "base_uri": "https://localhost:8080/",
          "height": 118,
          "referenced_widgets": [
            "af6df37dd583485d8d52e9797d0b2c8a",
            "cc2bb95ad6b34f98b9f50abd303318d0",
            "43860e5883964a0dac445a587f184d74",
            "d2d338bb0c0d42229b8a0cb552794047",
            "34faea7aa43d43d6b564f49dea9fbce9",
            "5d6f25afa40747d4ba06d9391cbe595e",
            "b538d986059f4fa5a021dbc989d987fb",
            "759ee124fae346d9aa2e1e9769782b2c"
          ]
        }
      },
      "source": [
        "trainloader, testloader, classes, device = gd.GetData.importDataset()"
      ],
      "execution_count": 8,
      "outputs": [
        {
          "output_type": "stream",
          "text": [
            "CUDA Available? True\n",
            "Downloading https://www.cs.toronto.edu/~kriz/cifar-10-python.tar.gz to ./data/cifar-10-python.tar.gz\n"
          ],
          "name": "stdout"
        },
        {
          "output_type": "display_data",
          "data": {
            "application/vnd.jupyter.widget-view+json": {
              "model_id": "af6df37dd583485d8d52e9797d0b2c8a",
              "version_minor": 0,
              "version_major": 2
            },
            "text/plain": [
              "HBox(children=(IntProgress(value=1, bar_style='info', max=1), HTML(value='')))"
            ]
          },
          "metadata": {
            "tags": []
          }
        },
        {
          "output_type": "stream",
          "text": [
            "Extracting ./data/cifar-10-python.tar.gz to ./data\n",
            "Files already downloaded and verified\n"
          ],
          "name": "stdout"
        }
      ]
    },
    {
      "cell_type": "code",
      "metadata": {
        "id": "fhScS7I-2hA4",
        "colab_type": "code",
        "outputId": "b8333f40-6476-4445-8881-cc500fd83dd6",
        "colab": {
          "base_uri": "https://localhost:8080/",
          "height": 1000
        }
      },
      "source": [
        "model = md.Net().to(device)\n",
        "summary(model, input_size=(3, 32, 32))"
      ],
      "execution_count": 9,
      "outputs": [
        {
          "output_type": "stream",
          "text": [
            "----------------------------------------------------------------\n",
            "        Layer (type)               Output Shape         Param #\n",
            "================================================================\n",
            "            Conv2d-1           [-1, 32, 30, 30]             864\n",
            "       BatchNorm2d-2           [-1, 32, 30, 30]              64\n",
            "              ReLU-3           [-1, 32, 30, 30]               0\n",
            "           Dropout-4           [-1, 32, 30, 30]               0\n",
            "            Conv2d-5           [-1, 64, 28, 28]          18,432\n",
            "       BatchNorm2d-6           [-1, 64, 28, 28]             128\n",
            "              ReLU-7           [-1, 64, 28, 28]               0\n",
            "           Dropout-8           [-1, 64, 28, 28]               0\n",
            "            Conv2d-9           [-1, 64, 26, 26]          36,864\n",
            "      BatchNorm2d-10           [-1, 64, 26, 26]             128\n",
            "             ReLU-11           [-1, 64, 26, 26]               0\n",
            "          Dropout-12           [-1, 64, 26, 26]               0\n",
            "           Conv2d-13           [-1, 64, 24, 24]          36,864\n",
            "      BatchNorm2d-14           [-1, 64, 24, 24]             128\n",
            "             ReLU-15           [-1, 64, 24, 24]               0\n",
            "          Dropout-16           [-1, 64, 24, 24]               0\n",
            "           Conv2d-17          [-1, 128, 24, 24]          73,728\n",
            "      BatchNorm2d-18          [-1, 128, 24, 24]             256\n",
            "             ReLU-19          [-1, 128, 24, 24]               0\n",
            "          Dropout-20          [-1, 128, 24, 24]               0\n",
            "        MaxPool2d-21          [-1, 128, 12, 12]               0\n",
            "           Conv2d-22           [-1, 32, 12, 12]           4,096\n",
            "           Conv2d-23           [-1, 32, 14, 14]           9,216\n",
            "      BatchNorm2d-24           [-1, 32, 14, 14]              64\n",
            "             ReLU-25           [-1, 32, 14, 14]               0\n",
            "          Dropout-26           [-1, 32, 14, 14]               0\n",
            "           Conv2d-27           [-1, 64, 16, 16]          18,432\n",
            "      BatchNorm2d-28           [-1, 64, 16, 16]             128\n",
            "             ReLU-29           [-1, 64, 16, 16]               0\n",
            "          Dropout-30           [-1, 64, 16, 16]               0\n",
            "           Conv2d-31           [-1, 64, 18, 18]          36,864\n",
            "      BatchNorm2d-32           [-1, 64, 18, 18]             128\n",
            "             ReLU-33           [-1, 64, 18, 18]               0\n",
            "          Dropout-34           [-1, 64, 18, 18]               0\n",
            "           Conv2d-35          [-1, 128, 20, 20]          73,728\n",
            "      BatchNorm2d-36          [-1, 128, 20, 20]             256\n",
            "             ReLU-37          [-1, 128, 20, 20]               0\n",
            "          Dropout-38          [-1, 128, 20, 20]               0\n",
            "        MaxPool2d-39          [-1, 128, 10, 10]               0\n",
            "           Conv2d-40           [-1, 64, 10, 10]           8,192\n",
            "           Conv2d-41             [-1, 64, 6, 6]          36,864\n",
            "      BatchNorm2d-42             [-1, 64, 6, 6]             128\n",
            "             ReLU-43             [-1, 64, 6, 6]               0\n",
            "          Dropout-44             [-1, 64, 6, 6]               0\n",
            "           Conv2d-45            [-1, 128, 4, 4]          73,728\n",
            "      BatchNorm2d-46            [-1, 128, 4, 4]             256\n",
            "             ReLU-47            [-1, 128, 4, 4]               0\n",
            "          Dropout-48            [-1, 128, 4, 4]               0\n",
            "        MaxPool2d-49            [-1, 128, 2, 2]               0\n",
            "           Conv2d-50             [-1, 32, 2, 2]           4,096\n",
            "           Conv2d-51             [-1, 32, 2, 2]             320\n",
            "           Conv2d-52             [-1, 32, 2, 2]           1,056\n",
            "depthwise_separable_conv-53             [-1, 32, 2, 2]               0\n",
            "      BatchNorm2d-54             [-1, 32, 2, 2]              64\n",
            "           Conv2d-55             [-1, 64, 2, 2]          18,432\n",
            "      BatchNorm2d-56             [-1, 64, 2, 2]             128\n",
            "             ReLU-57             [-1, 64, 2, 2]               0\n",
            "          Dropout-58             [-1, 64, 2, 2]               0\n",
            "           Conv2d-59            [-1, 128, 4, 4]          73,728\n",
            "        AvgPool2d-60            [-1, 128, 1, 1]               0\n",
            "           Conv2d-61             [-1, 10, 1, 1]           1,280\n",
            "================================================================\n",
            "Total params: 528,640\n",
            "Trainable params: 528,640\n",
            "Non-trainable params: 0\n",
            "----------------------------------------------------------------\n",
            "Input size (MB): 0.01\n",
            "Forward/backward pass size (MB): 10.48\n",
            "Params size (MB): 2.02\n",
            "Estimated Total Size (MB): 12.51\n",
            "----------------------------------------------------------------\n"
          ],
          "name": "stdout"
        }
      ]
    },
    {
      "cell_type": "code",
      "metadata": {
        "id": "odHnNPQ72vKt",
        "colab_type": "code",
        "outputId": "fcdf1dc1-2d95-4782-9e38-ef5bc1a03502",
        "colab": {
          "base_uri": "https://localhost:8080/",
          "height": 1000
        }
      },
      "source": [
        "model = tv.train_and_validate.train(trainloader,device,model,20)"
      ],
      "execution_count": 10,
      "outputs": [
        {
          "output_type": "stream",
          "text": [
            "[1,  2000] loss: 2.133\n",
            "[1,  4000] loss: 1.963\n",
            "[1,  6000] loss: 1.866\n",
            "[1,  8000] loss: 1.796\n",
            "[1, 10000] loss: 1.716\n",
            "[1, 12000] loss: 1.611\n",
            "[2,  2000] loss: 1.524\n",
            "[2,  4000] loss: 1.470\n",
            "[2,  6000] loss: 1.421\n",
            "[2,  8000] loss: 1.377\n",
            "[2, 10000] loss: 1.316\n",
            "[2, 12000] loss: 1.322\n",
            "[3,  2000] loss: 1.244\n",
            "[3,  4000] loss: 1.221\n",
            "[3,  6000] loss: 1.212\n",
            "[3,  8000] loss: 1.180\n",
            "[3, 10000] loss: 1.158\n",
            "[3, 12000] loss: 1.141\n",
            "[4,  2000] loss: 1.106\n",
            "[4,  4000] loss: 1.102\n",
            "[4,  6000] loss: 1.075\n",
            "[4,  8000] loss: 1.030\n",
            "[4, 10000] loss: 1.048\n",
            "[4, 12000] loss: 1.018\n",
            "[5,  2000] loss: 0.968\n",
            "[5,  4000] loss: 0.986\n",
            "[5,  6000] loss: 0.956\n",
            "[5,  8000] loss: 0.969\n",
            "[5, 10000] loss: 0.965\n",
            "[5, 12000] loss: 0.975\n",
            "[6,  2000] loss: 0.908\n",
            "[6,  4000] loss: 0.930\n",
            "[6,  6000] loss: 0.903\n",
            "[6,  8000] loss: 0.887\n",
            "[6, 10000] loss: 0.898\n",
            "[6, 12000] loss: 0.872\n",
            "[7,  2000] loss: 0.846\n",
            "[7,  4000] loss: 0.855\n",
            "[7,  6000] loss: 0.861\n",
            "[7,  8000] loss: 0.842\n",
            "[7, 10000] loss: 0.830\n",
            "[7, 12000] loss: 0.822\n",
            "[8,  2000] loss: 0.791\n",
            "[8,  4000] loss: 0.797\n",
            "[8,  6000] loss: 0.794\n",
            "[8,  8000] loss: 0.778\n",
            "[8, 10000] loss: 0.790\n",
            "[8, 12000] loss: 0.805\n",
            "[9,  2000] loss: 0.756\n",
            "[9,  4000] loss: 0.751\n",
            "[9,  6000] loss: 0.744\n",
            "[9,  8000] loss: 0.764\n",
            "[9, 10000] loss: 0.745\n",
            "[9, 12000] loss: 0.753\n",
            "[10,  2000] loss: 0.703\n",
            "[10,  4000] loss: 0.725\n",
            "[10,  6000] loss: 0.717\n",
            "[10,  8000] loss: 0.701\n",
            "[10, 10000] loss: 0.706\n",
            "[10, 12000] loss: 0.732\n",
            "[11,  2000] loss: 0.676\n",
            "[11,  4000] loss: 0.704\n",
            "[11,  6000] loss: 0.668\n",
            "[11,  8000] loss: 0.696\n",
            "[11, 10000] loss: 0.670\n",
            "[11, 12000] loss: 0.675\n",
            "[12,  2000] loss: 0.649\n",
            "[12,  4000] loss: 0.650\n",
            "[12,  6000] loss: 0.665\n",
            "[12,  8000] loss: 0.661\n",
            "[12, 10000] loss: 0.652\n",
            "[12, 12000] loss: 0.663\n",
            "[13,  2000] loss: 0.631\n",
            "[13,  4000] loss: 0.628\n",
            "[13,  6000] loss: 0.622\n",
            "[13,  8000] loss: 0.645\n",
            "[13, 10000] loss: 0.630\n",
            "[13, 12000] loss: 0.637\n",
            "[14,  2000] loss: 0.600\n",
            "[14,  4000] loss: 0.585\n",
            "[14,  6000] loss: 0.610\n",
            "[14,  8000] loss: 0.608\n",
            "[14, 10000] loss: 0.620\n",
            "[14, 12000] loss: 0.630\n",
            "[15,  2000] loss: 0.573\n",
            "[15,  4000] loss: 0.594\n",
            "[15,  6000] loss: 0.579\n",
            "[15,  8000] loss: 0.582\n",
            "[15, 10000] loss: 0.592\n",
            "[15, 12000] loss: 0.618\n",
            "[16,  2000] loss: 0.565\n",
            "[16,  4000] loss: 0.559\n",
            "[16,  6000] loss: 0.557\n",
            "[16,  8000] loss: 0.595\n",
            "[16, 10000] loss: 0.555\n",
            "[16, 12000] loss: 0.584\n",
            "[17,  2000] loss: 0.526\n",
            "[17,  4000] loss: 0.545\n",
            "[17,  6000] loss: 0.534\n",
            "[17,  8000] loss: 0.548\n",
            "[17, 10000] loss: 0.586\n",
            "[17, 12000] loss: 0.548\n",
            "[18,  2000] loss: 0.517\n",
            "[18,  4000] loss: 0.526\n",
            "[18,  6000] loss: 0.528\n",
            "[18,  8000] loss: 0.538\n",
            "[18, 10000] loss: 0.559\n",
            "[18, 12000] loss: 0.557\n",
            "[19,  2000] loss: 0.522\n",
            "[19,  4000] loss: 0.530\n",
            "[19,  6000] loss: 0.513\n",
            "[19,  8000] loss: 0.503\n",
            "[19, 10000] loss: 0.520\n",
            "[19, 12000] loss: 0.529\n",
            "[20,  2000] loss: 0.501\n",
            "[20,  4000] loss: 0.487\n",
            "[20,  6000] loss: 0.498\n",
            "[20,  8000] loss: 0.517\n",
            "[20, 10000] loss: 0.513\n",
            "[20, 12000] loss: 0.514\n",
            "Finished Training\n"
          ],
          "name": "stdout"
        }
      ]
    },
    {
      "cell_type": "code",
      "metadata": {
        "colab_type": "code",
        "id": "M5CGfdxOIXKp",
        "colab": {
          "base_uri": "https://localhost:8080/",
          "height": 1000
        },
        "outputId": "be8baade-a581-475e-fe8e-48838195614f"
      },
      "source": [
        "model = tv.train_and_validate.train(trainloader,device,model, 20)"
      ],
      "execution_count": 11,
      "outputs": [
        {
          "output_type": "stream",
          "text": [
            "[1,  2000] loss: 0.473\n",
            "[1,  4000] loss: 0.484\n",
            "[1,  6000] loss: 0.485\n",
            "[1,  8000] loss: 0.518\n",
            "[1, 10000] loss: 0.490\n",
            "[1, 12000] loss: 0.504\n",
            "[2,  2000] loss: 0.459\n",
            "[2,  4000] loss: 0.464\n",
            "[2,  6000] loss: 0.489\n",
            "[2,  8000] loss: 0.472\n",
            "[2, 10000] loss: 0.486\n",
            "[2, 12000] loss: 0.494\n",
            "[3,  2000] loss: 0.438\n",
            "[3,  4000] loss: 0.456\n",
            "[3,  6000] loss: 0.482\n",
            "[3,  8000] loss: 0.503\n",
            "[3, 10000] loss: 0.474\n",
            "[3, 12000] loss: 0.467\n",
            "[4,  2000] loss: 0.449\n",
            "[4,  4000] loss: 0.455\n",
            "[4,  6000] loss: 0.458\n",
            "[4,  8000] loss: 0.474\n",
            "[4, 10000] loss: 0.471\n",
            "[4, 12000] loss: 0.462\n",
            "[5,  2000] loss: 0.428\n",
            "[5,  4000] loss: 0.444\n",
            "[5,  6000] loss: 0.450\n",
            "[5,  8000] loss: 0.461\n",
            "[5, 10000] loss: 0.453\n",
            "[5, 12000] loss: 0.457\n",
            "[6,  2000] loss: 0.418\n",
            "[6,  4000] loss: 0.433\n",
            "[6,  6000] loss: 0.440\n",
            "[6,  8000] loss: 0.469\n",
            "[6, 10000] loss: 0.441\n",
            "[6, 12000] loss: 0.448\n",
            "[7,  2000] loss: 0.410\n",
            "[7,  4000] loss: 0.418\n",
            "[7,  6000] loss: 0.434\n",
            "[7,  8000] loss: 0.430\n",
            "[7, 10000] loss: 0.437\n",
            "[7, 12000] loss: 0.452\n",
            "[8,  2000] loss: 0.406\n",
            "[8,  4000] loss: 0.415\n",
            "[8,  6000] loss: 0.423\n",
            "[8,  8000] loss: 0.431\n",
            "[8, 10000] loss: 0.415\n",
            "[8, 12000] loss: 0.425\n",
            "[9,  2000] loss: 0.394\n",
            "[9,  4000] loss: 0.416\n",
            "[9,  6000] loss: 0.405\n",
            "[9,  8000] loss: 0.420\n",
            "[9, 10000] loss: 0.413\n",
            "[9, 12000] loss: 0.433\n",
            "[10,  2000] loss: 0.383\n",
            "[10,  4000] loss: 0.387\n",
            "[10,  6000] loss: 0.399\n",
            "[10,  8000] loss: 0.419\n",
            "[10, 10000] loss: 0.406\n",
            "[10, 12000] loss: 0.413\n",
            "[11,  2000] loss: 0.381\n",
            "[11,  4000] loss: 0.386\n",
            "[11,  6000] loss: 0.403\n",
            "[11,  8000] loss: 0.404\n",
            "[11, 10000] loss: 0.405\n",
            "[11, 12000] loss: 0.406\n",
            "[12,  2000] loss: 0.373\n",
            "[12,  4000] loss: 0.406\n",
            "[12,  6000] loss: 0.376\n",
            "[12,  8000] loss: 0.378\n",
            "[12, 10000] loss: 0.388\n",
            "[12, 12000] loss: 0.399\n",
            "[13,  2000] loss: 0.366\n",
            "[13,  4000] loss: 0.358\n",
            "[13,  6000] loss: 0.393\n",
            "[13,  8000] loss: 0.393\n",
            "[13, 10000] loss: 0.395\n",
            "[13, 12000] loss: 0.393\n",
            "[14,  2000] loss: 0.363\n",
            "[14,  4000] loss: 0.367\n",
            "[14,  6000] loss: 0.386\n",
            "[14,  8000] loss: 0.378\n",
            "[14, 10000] loss: 0.396\n",
            "[14, 12000] loss: 0.383\n",
            "[15,  2000] loss: 0.343\n",
            "[15,  4000] loss: 0.371\n",
            "[15,  6000] loss: 0.364\n",
            "[15,  8000] loss: 0.376\n",
            "[15, 10000] loss: 0.380\n",
            "[15, 12000] loss: 0.377\n",
            "[16,  2000] loss: 0.341\n",
            "[16,  4000] loss: 0.370\n",
            "[16,  6000] loss: 0.369\n",
            "[16,  8000] loss: 0.381\n",
            "[16, 10000] loss: 0.377\n",
            "[16, 12000] loss: 0.368\n",
            "[17,  2000] loss: 0.342\n",
            "[17,  4000] loss: 0.360\n",
            "[17,  6000] loss: 0.373\n",
            "[17,  8000] loss: 0.374\n",
            "[17, 10000] loss: 0.356\n",
            "[17, 12000] loss: 0.369\n",
            "[18,  2000] loss: 0.336\n",
            "[18,  4000] loss: 0.336\n",
            "[18,  6000] loss: 0.350\n",
            "[18,  8000] loss: 0.335\n",
            "[18, 10000] loss: 0.377\n",
            "[18, 12000] loss: 0.355\n",
            "[19,  2000] loss: 0.332\n",
            "[19,  4000] loss: 0.341\n",
            "[19,  6000] loss: 0.345\n",
            "[19,  8000] loss: 0.373\n",
            "[19, 10000] loss: 0.348\n",
            "[19, 12000] loss: 0.360\n",
            "[20,  2000] loss: 0.333\n",
            "[20,  4000] loss: 0.336\n",
            "[20,  6000] loss: 0.354\n",
            "[20,  8000] loss: 0.341\n",
            "[20, 10000] loss: 0.363\n",
            "[20, 12000] loss: 0.359\n",
            "Finished Training\n"
          ],
          "name": "stdout"
        }
      ]
    },
    {
      "cell_type": "code",
      "metadata": {
        "id": "ZQRC99EvMSuT",
        "colab_type": "code",
        "colab": {
          "base_uri": "https://localhost:8080/",
          "height": 1000
        },
        "outputId": "a39e17ac-4324-4e4e-eeff-2a601db1ce5b"
      },
      "source": [
        "model = tv.train_and_validate.train(trainloader,device,model, 20)"
      ],
      "execution_count": 12,
      "outputs": [
        {
          "output_type": "stream",
          "text": [
            "[1,  2000] loss: 0.320\n",
            "[1,  4000] loss: 0.340\n",
            "[1,  6000] loss: 0.338\n",
            "[1,  8000] loss: 0.356\n",
            "[1, 10000] loss: 0.356\n",
            "[1, 12000] loss: 0.355\n",
            "[2,  2000] loss: 0.318\n",
            "[2,  4000] loss: 0.329\n",
            "[2,  6000] loss: 0.338\n",
            "[2,  8000] loss: 0.338\n",
            "[2, 10000] loss: 0.369\n",
            "[2, 12000] loss: 0.349\n",
            "[3,  2000] loss: 0.320\n",
            "[3,  4000] loss: 0.311\n",
            "[3,  6000] loss: 0.327\n",
            "[3,  8000] loss: 0.332\n",
            "[3, 10000] loss: 0.348\n",
            "[3, 12000] loss: 0.351\n",
            "[4,  2000] loss: 0.325\n",
            "[4,  4000] loss: 0.327\n",
            "[4,  6000] loss: 0.327\n",
            "[4,  8000] loss: 0.331\n",
            "[4, 10000] loss: 0.328\n",
            "[4, 12000] loss: 0.345\n",
            "[5,  2000] loss: 0.314\n",
            "[5,  4000] loss: 0.324\n",
            "[5,  6000] loss: 0.322\n",
            "[5,  8000] loss: 0.329\n",
            "[5, 10000] loss: 0.334\n",
            "[5, 12000] loss: 0.338\n",
            "[6,  2000] loss: 0.315\n",
            "[6,  4000] loss: 0.306\n",
            "[6,  6000] loss: 0.338\n",
            "[6,  8000] loss: 0.297\n",
            "[6, 10000] loss: 0.307\n",
            "[6, 12000] loss: 0.341\n",
            "[7,  2000] loss: 0.294\n",
            "[7,  4000] loss: 0.299\n",
            "[7,  6000] loss: 0.315\n",
            "[7,  8000] loss: 0.326\n",
            "[7, 10000] loss: 0.328\n",
            "[7, 12000] loss: 0.325\n",
            "[8,  2000] loss: 0.297\n",
            "[8,  4000] loss: 0.312\n",
            "[8,  6000] loss: 0.325\n",
            "[8,  8000] loss: 0.323\n",
            "[8, 10000] loss: 0.309\n",
            "[8, 12000] loss: 0.326\n",
            "[9,  2000] loss: 0.300\n",
            "[9,  4000] loss: 0.317\n",
            "[9,  6000] loss: 0.314\n",
            "[9,  8000] loss: 0.315\n",
            "[9, 10000] loss: 0.314\n",
            "[9, 12000] loss: 0.322\n",
            "[10,  2000] loss: 0.294\n",
            "[10,  4000] loss: 0.296\n",
            "[10,  6000] loss: 0.300\n",
            "[10,  8000] loss: 0.302\n",
            "[10, 10000] loss: 0.319\n",
            "[10, 12000] loss: 0.326\n",
            "[11,  2000] loss: 0.269\n",
            "[11,  4000] loss: 0.321\n",
            "[11,  6000] loss: 0.301\n",
            "[11,  8000] loss: 0.310\n",
            "[11, 10000] loss: 0.326\n",
            "[11, 12000] loss: 0.316\n",
            "[12,  2000] loss: 0.275\n",
            "[12,  4000] loss: 0.290\n",
            "[12,  6000] loss: 0.288\n",
            "[12,  8000] loss: 0.309\n",
            "[12, 10000] loss: 0.315\n",
            "[12, 12000] loss: 0.303\n",
            "[13,  2000] loss: 0.277\n",
            "[13,  4000] loss: 0.295\n",
            "[13,  6000] loss: 0.309\n",
            "[13,  8000] loss: 0.303\n",
            "[13, 10000] loss: 0.315\n",
            "[13, 12000] loss: 0.294\n",
            "[14,  2000] loss: 0.274\n",
            "[14,  4000] loss: 0.296\n",
            "[14,  6000] loss: 0.296\n",
            "[14,  8000] loss: 0.291\n",
            "[14, 10000] loss: 0.310\n",
            "[14, 12000] loss: 0.315\n",
            "[15,  2000] loss: 0.274\n",
            "[15,  4000] loss: 0.280\n",
            "[15,  6000] loss: 0.291\n",
            "[15,  8000] loss: 0.310\n",
            "[15, 10000] loss: 0.303\n",
            "[15, 12000] loss: 0.306\n",
            "[16,  2000] loss: 0.284\n",
            "[16,  4000] loss: 0.284\n",
            "[16,  6000] loss: 0.286\n",
            "[16,  8000] loss: 0.300\n",
            "[16, 10000] loss: 0.306\n",
            "[16, 12000] loss: 0.291\n",
            "[17,  2000] loss: 0.260\n",
            "[17,  4000] loss: 0.272\n",
            "[17,  6000] loss: 0.286\n",
            "[17,  8000] loss: 0.291\n",
            "[17, 10000] loss: 0.285\n",
            "[17, 12000] loss: 0.306\n",
            "[18,  2000] loss: 0.256\n",
            "[18,  4000] loss: 0.281\n",
            "[18,  6000] loss: 0.292\n",
            "[18,  8000] loss: 0.289\n",
            "[18, 10000] loss: 0.290\n",
            "[18, 12000] loss: 0.301\n",
            "[19,  2000] loss: 0.266\n",
            "[19,  4000] loss: 0.273\n",
            "[19,  6000] loss: 0.277\n",
            "[19,  8000] loss: 0.283\n",
            "[19, 10000] loss: 0.306\n",
            "[19, 12000] loss: 0.297\n",
            "[20,  2000] loss: 0.266\n",
            "[20,  4000] loss: 0.268\n",
            "[20,  6000] loss: 0.284\n",
            "[20,  8000] loss: 0.285\n",
            "[20, 10000] loss: 0.291\n",
            "[20, 12000] loss: 0.294\n",
            "Finished Training\n"
          ],
          "name": "stdout"
        }
      ]
    },
    {
      "cell_type": "code",
      "metadata": {
        "id": "zMqeZYML_Dla",
        "colab_type": "code",
        "colab": {
          "base_uri": "https://localhost:8080/",
          "height": 35
        },
        "outputId": "57ef6e69-fff5-4431-d67e-b33a3222f94d"
      },
      "source": [
        "tv.train_and_validate.validate(testloader,device,model)"
      ],
      "execution_count": 15,
      "outputs": [
        {
          "output_type": "stream",
          "text": [
            "Accuracy of the network on the 10000 test images: 80 %\n"
          ],
          "name": "stdout"
        }
      ]
    },
    {
      "cell_type": "code",
      "metadata": {
        "id": "23FFtiwsUoYo",
        "colab_type": "code",
        "colab": {
          "base_uri": "https://localhost:8080/",
          "height": 190
        },
        "outputId": "8c7bbda5-bf3b-4613-eafd-061f1379460a"
      },
      "source": [
        "tv.train_and_validate.classValidation(testloader,device,model,classes)"
      ],
      "execution_count": 16,
      "outputs": [
        {
          "output_type": "stream",
          "text": [
            "Accuracy of plane : 81 %\n",
            "Accuracy of   car : 92 %\n",
            "Accuracy of  bird : 71 %\n",
            "Accuracy of   cat : 65 %\n",
            "Accuracy of  deer : 83 %\n",
            "Accuracy of   dog : 72 %\n",
            "Accuracy of  frog : 79 %\n",
            "Accuracy of horse : 86 %\n",
            "Accuracy of  ship : 87 %\n",
            "Accuracy of truck : 85 %\n"
          ],
          "name": "stdout"
        }
      ]
    },
    {
      "cell_type": "code",
      "metadata": {
        "id": "LCoy2KUFZ1BE",
        "colab_type": "code",
        "colab": {}
      },
      "source": [
        ""
      ],
      "execution_count": 0,
      "outputs": []
    }
  ]
}