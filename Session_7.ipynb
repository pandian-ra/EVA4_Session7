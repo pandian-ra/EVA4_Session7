{
  "nbformat": 4,
  "nbformat_minor": 0,
  "metadata": {
    "colab": {
      "name": "Session_7.ipynb",
      "provenance": [],
      "collapsed_sections": [],
      "include_colab_link": true
    },
    "kernelspec": {
      "name": "python3",
      "display_name": "Python 3"
    },
    "accelerator": "GPU",
    "widgets": {
      "application/vnd.jupyter.widget-state+json": {
        "d4c834fbcdb84fb692a96674ddda9957": {
          "model_module": "@jupyter-widgets/controls",
          "model_name": "HBoxModel",
          "state": {
            "_view_name": "HBoxView",
            "_dom_classes": [],
            "_model_name": "HBoxModel",
            "_view_module": "@jupyter-widgets/controls",
            "_model_module_version": "1.5.0",
            "_view_count": null,
            "_view_module_version": "1.5.0",
            "box_style": "",
            "layout": "IPY_MODEL_336d991ce9c64dccb618757586d83e36",
            "_model_module": "@jupyter-widgets/controls",
            "children": [
              "IPY_MODEL_4274f79218e043f9833b9721c96deb8f",
              "IPY_MODEL_bccfe3fbcdf848278a052ca1283fb559"
            ]
          }
        },
        "336d991ce9c64dccb618757586d83e36": {
          "model_module": "@jupyter-widgets/base",
          "model_name": "LayoutModel",
          "state": {
            "_view_name": "LayoutView",
            "grid_template_rows": null,
            "right": null,
            "justify_content": null,
            "_view_module": "@jupyter-widgets/base",
            "overflow": null,
            "_model_module_version": "1.2.0",
            "_view_count": null,
            "flex_flow": null,
            "width": null,
            "min_width": null,
            "border": null,
            "align_items": null,
            "bottom": null,
            "_model_module": "@jupyter-widgets/base",
            "top": null,
            "grid_column": null,
            "overflow_y": null,
            "overflow_x": null,
            "grid_auto_flow": null,
            "grid_area": null,
            "grid_template_columns": null,
            "flex": null,
            "_model_name": "LayoutModel",
            "justify_items": null,
            "grid_row": null,
            "max_height": null,
            "align_content": null,
            "visibility": null,
            "align_self": null,
            "height": null,
            "min_height": null,
            "padding": null,
            "grid_auto_rows": null,
            "grid_gap": null,
            "max_width": null,
            "order": null,
            "_view_module_version": "1.2.0",
            "grid_template_areas": null,
            "object_position": null,
            "object_fit": null,
            "grid_auto_columns": null,
            "margin": null,
            "display": null,
            "left": null
          }
        },
        "4274f79218e043f9833b9721c96deb8f": {
          "model_module": "@jupyter-widgets/controls",
          "model_name": "IntProgressModel",
          "state": {
            "_view_name": "ProgressView",
            "style": "IPY_MODEL_fc7302a282b64765acffe8d19e46b1be",
            "_dom_classes": [],
            "description": "",
            "_model_name": "IntProgressModel",
            "bar_style": "info",
            "max": 1,
            "_view_module": "@jupyter-widgets/controls",
            "_model_module_version": "1.5.0",
            "value": 1,
            "_view_count": null,
            "_view_module_version": "1.5.0",
            "orientation": "horizontal",
            "min": 0,
            "description_tooltip": null,
            "_model_module": "@jupyter-widgets/controls",
            "layout": "IPY_MODEL_b1696b6e7a8343ea968bf5bb2361da3e"
          }
        },
        "bccfe3fbcdf848278a052ca1283fb559": {
          "model_module": "@jupyter-widgets/controls",
          "model_name": "HTMLModel",
          "state": {
            "_view_name": "HTMLView",
            "style": "IPY_MODEL_24ff93ca6f1046c99810515d9ae8632f",
            "_dom_classes": [],
            "description": "",
            "_model_name": "HTMLModel",
            "placeholder": "​",
            "_view_module": "@jupyter-widgets/controls",
            "_model_module_version": "1.5.0",
            "value": "170500096it [00:30, 14315470.30it/s]",
            "_view_count": null,
            "_view_module_version": "1.5.0",
            "description_tooltip": null,
            "_model_module": "@jupyter-widgets/controls",
            "layout": "IPY_MODEL_9de2d89cd58149b0b3854e5bb5283a13"
          }
        },
        "fc7302a282b64765acffe8d19e46b1be": {
          "model_module": "@jupyter-widgets/controls",
          "model_name": "ProgressStyleModel",
          "state": {
            "_view_name": "StyleView",
            "_model_name": "ProgressStyleModel",
            "description_width": "",
            "_view_module": "@jupyter-widgets/base",
            "_model_module_version": "1.5.0",
            "_view_count": null,
            "_view_module_version": "1.2.0",
            "bar_color": null,
            "_model_module": "@jupyter-widgets/controls"
          }
        },
        "b1696b6e7a8343ea968bf5bb2361da3e": {
          "model_module": "@jupyter-widgets/base",
          "model_name": "LayoutModel",
          "state": {
            "_view_name": "LayoutView",
            "grid_template_rows": null,
            "right": null,
            "justify_content": null,
            "_view_module": "@jupyter-widgets/base",
            "overflow": null,
            "_model_module_version": "1.2.0",
            "_view_count": null,
            "flex_flow": null,
            "width": null,
            "min_width": null,
            "border": null,
            "align_items": null,
            "bottom": null,
            "_model_module": "@jupyter-widgets/base",
            "top": null,
            "grid_column": null,
            "overflow_y": null,
            "overflow_x": null,
            "grid_auto_flow": null,
            "grid_area": null,
            "grid_template_columns": null,
            "flex": null,
            "_model_name": "LayoutModel",
            "justify_items": null,
            "grid_row": null,
            "max_height": null,
            "align_content": null,
            "visibility": null,
            "align_self": null,
            "height": null,
            "min_height": null,
            "padding": null,
            "grid_auto_rows": null,
            "grid_gap": null,
            "max_width": null,
            "order": null,
            "_view_module_version": "1.2.0",
            "grid_template_areas": null,
            "object_position": null,
            "object_fit": null,
            "grid_auto_columns": null,
            "margin": null,
            "display": null,
            "left": null
          }
        },
        "24ff93ca6f1046c99810515d9ae8632f": {
          "model_module": "@jupyter-widgets/controls",
          "model_name": "DescriptionStyleModel",
          "state": {
            "_view_name": "StyleView",
            "_model_name": "DescriptionStyleModel",
            "description_width": "",
            "_view_module": "@jupyter-widgets/base",
            "_model_module_version": "1.5.0",
            "_view_count": null,
            "_view_module_version": "1.2.0",
            "_model_module": "@jupyter-widgets/controls"
          }
        },
        "9de2d89cd58149b0b3854e5bb5283a13": {
          "model_module": "@jupyter-widgets/base",
          "model_name": "LayoutModel",
          "state": {
            "_view_name": "LayoutView",
            "grid_template_rows": null,
            "right": null,
            "justify_content": null,
            "_view_module": "@jupyter-widgets/base",
            "overflow": null,
            "_model_module_version": "1.2.0",
            "_view_count": null,
            "flex_flow": null,
            "width": null,
            "min_width": null,
            "border": null,
            "align_items": null,
            "bottom": null,
            "_model_module": "@jupyter-widgets/base",
            "top": null,
            "grid_column": null,
            "overflow_y": null,
            "overflow_x": null,
            "grid_auto_flow": null,
            "grid_area": null,
            "grid_template_columns": null,
            "flex": null,
            "_model_name": "LayoutModel",
            "justify_items": null,
            "grid_row": null,
            "max_height": null,
            "align_content": null,
            "visibility": null,
            "align_self": null,
            "height": null,
            "min_height": null,
            "padding": null,
            "grid_auto_rows": null,
            "grid_gap": null,
            "max_width": null,
            "order": null,
            "_view_module_version": "1.2.0",
            "grid_template_areas": null,
            "object_position": null,
            "object_fit": null,
            "grid_auto_columns": null,
            "margin": null,
            "display": null,
            "left": null
          }
        }
      }
    }
  },
  "cells": [
    {
      "cell_type": "markdown",
      "metadata": {
        "id": "view-in-github",
        "colab_type": "text"
      },
      "source": [
        "<a href=\"https://colab.research.google.com/github/pandian-raja/EVA4_Session7/blob/master/Session_7.ipynb\" target=\"_parent\"><img src=\"https://colab.research.google.com/assets/colab-badge.svg\" alt=\"Open In Colab\"/></a>"
      ]
    },
    {
      "cell_type": "code",
      "metadata": {
        "id": "nVBfJxnt0uO6",
        "colab_type": "code",
        "outputId": "2bf2cd4c-323f-4f9e-eb6c-ba3dcb13c706",
        "colab": {
          "base_uri": "https://localhost:8080/",
          "height": 397
        }
      },
      "source": [
        "!wget https://raw.githubusercontent.com/pandian-raja/EVA4_Session7/master/GetData.py"
      ],
      "execution_count": 0,
      "outputs": [
        {
          "output_type": "stream",
          "text": [
            "--2020-03-03 11:15:35--  https://raw.githubusercontent.com/pandian-raja/EVA4_Session7/master/GetData.py\n",
            "Resolving raw.githubusercontent.com (raw.githubusercontent.com)... 151.101.0.133, 151.101.64.133, 151.101.128.133, ...\n",
            "Connecting to raw.githubusercontent.com (raw.githubusercontent.com)|151.101.0.133|:443... connected.\n",
            "HTTP request sent, awaiting response... 200 OK\n",
            "Length: 1400 (1.4K) [text/plain]\n",
            "Saving to: ‘GetData.py’\n",
            "\n",
            "GetData.py          100%[===================>]   1.37K  --.-KB/s    in 0s      \n",
            "\n",
            "2020-03-03 11:15:40 (33.1 MB/s) - ‘GetData.py’ saved [1400/1400]\n",
            "\n",
            "--2020-03-03 11:15:52--  https://raw.githubusercontent.com/pandian-raja/EVA4_Session7/master/GetData.py\n",
            "Resolving raw.githubusercontent.com (raw.githubusercontent.com)... 151.101.0.133, 151.101.64.133, 151.101.128.133, ...\n",
            "Connecting to raw.githubusercontent.com (raw.githubusercontent.com)|151.101.0.133|:443... connected.\n",
            "HTTP request sent, awaiting response... 200 OK\n",
            "Length: 1400 (1.4K) [text/plain]\n",
            "Saving to: ‘GetData.py.1’\n",
            "\n",
            "GetData.py.1        100%[===================>]   1.37K  --.-KB/s    in 0s      \n",
            "\n",
            "2020-03-03 11:15:52 (26.8 MB/s) - ‘GetData.py.1’ saved [1400/1400]\n",
            "\n"
          ],
          "name": "stdout"
        }
      ]
    },
    {
      "cell_type": "code",
      "metadata": {
        "id": "r6vj7NQQ0zx6",
        "colab_type": "code",
        "outputId": "7a07c265-cbd1-4fa1-e737-91a375b3f1ba",
        "colab": {
          "base_uri": "https://localhost:8080/",
          "height": 397
        }
      },
      "source": [
        "!wget https://raw.githubusercontent.com/pandian-raja/EVA4_Session7/master/Model.py"
      ],
      "execution_count": 0,
      "outputs": [
        {
          "output_type": "stream",
          "text": [
            "--2020-03-03 11:15:46--  https://raw.githubusercontent.com/pandian-raja/EVA4_Session7/master/Model.py\n",
            "Resolving raw.githubusercontent.com (raw.githubusercontent.com)... 151.101.0.133, 151.101.64.133, 151.101.128.133, ...\n",
            "Connecting to raw.githubusercontent.com (raw.githubusercontent.com)|151.101.0.133|:443... connected.\n",
            "HTTP request sent, awaiting response... 200 OK\n",
            "Length: 5219 (5.1K) [text/plain]\n",
            "Saving to: ‘Model.py’\n",
            "\n",
            "\rModel.py              0%[                    ]       0  --.-KB/s               \rModel.py            100%[===================>]   5.10K  --.-KB/s    in 0s      \n",
            "\n",
            "2020-03-03 11:15:46 (105 MB/s) - ‘Model.py’ saved [5219/5219]\n",
            "\n",
            "--2020-03-03 11:15:57--  https://raw.githubusercontent.com/pandian-raja/EVA4_Session7/master/Model.py\n",
            "Resolving raw.githubusercontent.com (raw.githubusercontent.com)... 151.101.0.133, 151.101.64.133, 151.101.128.133, ...\n",
            "Connecting to raw.githubusercontent.com (raw.githubusercontent.com)|151.101.0.133|:443... connected.\n",
            "HTTP request sent, awaiting response... 200 OK\n",
            "Length: 5219 (5.1K) [text/plain]\n",
            "Saving to: ‘Model.py.1’\n",
            "\n",
            "Model.py.1          100%[===================>]   5.10K  --.-KB/s    in 0s      \n",
            "\n",
            "2020-03-03 11:15:57 (116 MB/s) - ‘Model.py.1’ saved [5219/5219]\n",
            "\n"
          ],
          "name": "stdout"
        }
      ]
    },
    {
      "cell_type": "code",
      "metadata": {
        "id": "GJVfRzkv00-_",
        "colab_type": "code",
        "outputId": "c9ea6753-a18b-46ff-c63a-ce5f0e32b857",
        "colab": {
          "base_uri": "https://localhost:8080/",
          "height": 207
        }
      },
      "source": [
        "!wget https://raw.githubusercontent.com/pandian-raja/EVA4_Session7/master/train_and_validate.py"
      ],
      "execution_count": 0,
      "outputs": [
        {
          "output_type": "stream",
          "text": [
            "--2020-03-03 11:16:02--  https://raw.githubusercontent.com/pandian-raja/EVA4_Session7/master/train_and_validate.py\n",
            "Resolving raw.githubusercontent.com (raw.githubusercontent.com)... 151.101.0.133, 151.101.64.133, 151.101.128.133, ...\n",
            "Connecting to raw.githubusercontent.com (raw.githubusercontent.com)|151.101.0.133|:443... connected.\n",
            "HTTP request sent, awaiting response... 200 OK\n",
            "Length: 2731 (2.7K) [text/plain]\n",
            "Saving to: ‘train_and_validate.py’\n",
            "\n",
            "\rtrain_and_validate.   0%[                    ]       0  --.-KB/s               \rtrain_and_validate. 100%[===================>]   2.67K  --.-KB/s    in 0s      \n",
            "\n",
            "2020-03-03 11:16:02 (61.1 MB/s) - ‘train_and_validate.py’ saved [2731/2731]\n",
            "\n"
          ],
          "name": "stdout"
        }
      ]
    },
    {
      "cell_type": "code",
      "metadata": {
        "id": "SKq2oYer0-Sz",
        "colab_type": "code",
        "outputId": "6096418d-a19f-4c31-ba99-1418d84b4c13",
        "colab": {
          "base_uri": "https://localhost:8080/",
          "height": 35
        }
      },
      "source": [
        "!pip install torchsummary\n",
        "from torchsummary import summary\n",
        "import GetData as gd\n",
        "import Model as md\n",
        "import train_and_validate as tv"
      ],
      "execution_count": 0,
      "outputs": [
        {
          "output_type": "stream",
          "text": [
            "Requirement already satisfied: torchsummary in /usr/local/lib/python3.6/dist-packages (1.5.1)\n"
          ],
          "name": "stdout"
        }
      ]
    },
    {
      "cell_type": "code",
      "metadata": {
        "id": "YSeB5QH51DFX",
        "colab_type": "code",
        "outputId": "5111c4d2-ccc2-4b0c-8896-905304986c89",
        "colab": {
          "base_uri": "https://localhost:8080/",
          "height": 118,
          "referenced_widgets": [
            "d4c834fbcdb84fb692a96674ddda9957",
            "336d991ce9c64dccb618757586d83e36",
            "4274f79218e043f9833b9721c96deb8f",
            "bccfe3fbcdf848278a052ca1283fb559",
            "fc7302a282b64765acffe8d19e46b1be",
            "b1696b6e7a8343ea968bf5bb2361da3e",
            "24ff93ca6f1046c99810515d9ae8632f",
            "9de2d89cd58149b0b3854e5bb5283a13"
          ]
        }
      },
      "source": [
        "trainloader, testloader, classes, device = gd.GetData.importDataset()"
      ],
      "execution_count": 0,
      "outputs": [
        {
          "output_type": "stream",
          "text": [
            "CUDA Available? True\n",
            "Downloading https://www.cs.toronto.edu/~kriz/cifar-10-python.tar.gz to ./data/cifar-10-python.tar.gz\n"
          ],
          "name": "stdout"
        },
        {
          "output_type": "display_data",
          "data": {
            "application/vnd.jupyter.widget-view+json": {
              "model_id": "d4c834fbcdb84fb692a96674ddda9957",
              "version_minor": 0,
              "version_major": 2
            },
            "text/plain": [
              "HBox(children=(IntProgress(value=1, bar_style='info', max=1), HTML(value='')))"
            ]
          },
          "metadata": {
            "tags": []
          }
        },
        {
          "output_type": "stream",
          "text": [
            "Extracting ./data/cifar-10-python.tar.gz to ./data\n",
            "Files already downloaded and verified\n"
          ],
          "name": "stdout"
        }
      ]
    },
    {
      "cell_type": "code",
      "metadata": {
        "id": "fhScS7I-2hA4",
        "colab_type": "code",
        "outputId": "b340475d-0cf8-4bb7-a108-06c738f301f7",
        "colab": {
          "base_uri": "https://localhost:8080/",
          "height": 1000
        }
      },
      "source": [
        "model = md.Net().to(device)\n",
        "summary(model, input_size=(3, 32, 32))"
      ],
      "execution_count": 0,
      "outputs": [
        {
          "output_type": "stream",
          "text": [
            "----------------------------------------------------------------\n",
            "        Layer (type)               Output Shape         Param #\n",
            "================================================================\n",
            "            Conv2d-1           [-1, 32, 30, 30]             864\n",
            "       BatchNorm2d-2           [-1, 32, 30, 30]              64\n",
            "              ReLU-3           [-1, 32, 30, 30]               0\n",
            "           Dropout-4           [-1, 32, 30, 30]               0\n",
            "            Conv2d-5           [-1, 64, 28, 28]          18,432\n",
            "       BatchNorm2d-6           [-1, 64, 28, 28]             128\n",
            "              ReLU-7           [-1, 64, 28, 28]               0\n",
            "           Dropout-8           [-1, 64, 28, 28]               0\n",
            "            Conv2d-9           [-1, 64, 26, 26]          36,864\n",
            "      BatchNorm2d-10           [-1, 64, 26, 26]             128\n",
            "             ReLU-11           [-1, 64, 26, 26]               0\n",
            "          Dropout-12           [-1, 64, 26, 26]               0\n",
            "           Conv2d-13           [-1, 64, 24, 24]          36,864\n",
            "      BatchNorm2d-14           [-1, 64, 24, 24]             128\n",
            "             ReLU-15           [-1, 64, 24, 24]               0\n",
            "          Dropout-16           [-1, 64, 24, 24]               0\n",
            "           Conv2d-17          [-1, 128, 24, 24]          73,728\n",
            "      BatchNorm2d-18          [-1, 128, 24, 24]             256\n",
            "             ReLU-19          [-1, 128, 24, 24]               0\n",
            "          Dropout-20          [-1, 128, 24, 24]               0\n",
            "        MaxPool2d-21          [-1, 128, 12, 12]               0\n",
            "           Conv2d-22           [-1, 32, 12, 12]           4,096\n",
            "           Conv2d-23           [-1, 32, 14, 14]           9,216\n",
            "      BatchNorm2d-24           [-1, 32, 14, 14]              64\n",
            "             ReLU-25           [-1, 32, 14, 14]               0\n",
            "          Dropout-26           [-1, 32, 14, 14]               0\n",
            "           Conv2d-27           [-1, 64, 16, 16]          18,432\n",
            "      BatchNorm2d-28           [-1, 64, 16, 16]             128\n",
            "             ReLU-29           [-1, 64, 16, 16]               0\n",
            "          Dropout-30           [-1, 64, 16, 16]               0\n",
            "           Conv2d-31           [-1, 64, 18, 18]          36,864\n",
            "      BatchNorm2d-32           [-1, 64, 18, 18]             128\n",
            "             ReLU-33           [-1, 64, 18, 18]               0\n",
            "          Dropout-34           [-1, 64, 18, 18]               0\n",
            "           Conv2d-35          [-1, 128, 20, 20]          73,728\n",
            "      BatchNorm2d-36          [-1, 128, 20, 20]             256\n",
            "             ReLU-37          [-1, 128, 20, 20]               0\n",
            "          Dropout-38          [-1, 128, 20, 20]               0\n",
            "        MaxPool2d-39          [-1, 128, 10, 10]               0\n",
            "           Conv2d-40           [-1, 64, 10, 10]           8,192\n",
            "           Conv2d-41             [-1, 64, 6, 6]          36,864\n",
            "      BatchNorm2d-42             [-1, 64, 6, 6]             128\n",
            "             ReLU-43             [-1, 64, 6, 6]               0\n",
            "          Dropout-44             [-1, 64, 6, 6]               0\n",
            "           Conv2d-45            [-1, 128, 4, 4]          73,728\n",
            "      BatchNorm2d-46            [-1, 128, 4, 4]             256\n",
            "             ReLU-47            [-1, 128, 4, 4]               0\n",
            "          Dropout-48            [-1, 128, 4, 4]               0\n",
            "        MaxPool2d-49            [-1, 128, 2, 2]               0\n",
            "           Conv2d-50             [-1, 32, 2, 2]           4,096\n",
            "           Conv2d-51             [-1, 32, 2, 2]             320\n",
            "           Conv2d-52             [-1, 32, 2, 2]           1,056\n",
            "depthwise_separable_conv-53             [-1, 32, 2, 2]               0\n",
            "      BatchNorm2d-54             [-1, 32, 2, 2]              64\n",
            "           Conv2d-55             [-1, 64, 2, 2]          18,432\n",
            "      BatchNorm2d-56             [-1, 64, 2, 2]             128\n",
            "             ReLU-57             [-1, 64, 2, 2]               0\n",
            "          Dropout-58             [-1, 64, 2, 2]               0\n",
            "           Conv2d-59            [-1, 128, 4, 4]          73,728\n",
            "        AvgPool2d-60            [-1, 128, 1, 1]               0\n",
            "           Conv2d-61             [-1, 10, 1, 1]           1,280\n",
            "================================================================\n",
            "Total params: 528,640\n",
            "Trainable params: 528,640\n",
            "Non-trainable params: 0\n",
            "----------------------------------------------------------------\n",
            "Input size (MB): 0.01\n",
            "Forward/backward pass size (MB): 10.48\n",
            "Params size (MB): 2.02\n",
            "Estimated Total Size (MB): 12.51\n",
            "----------------------------------------------------------------\n"
          ],
          "name": "stdout"
        }
      ]
    },
    {
      "cell_type": "code",
      "metadata": {
        "id": "odHnNPQ72vKt",
        "colab_type": "code",
        "outputId": "33df090e-8a09-4c3d-efb6-1f2def36e51f",
        "colab": {
          "base_uri": "https://localhost:8080/",
          "height": 104
        }
      },
      "source": [
        "model = tv.train_and_validate.train(trainloader,device,model,40)"
      ],
      "execution_count": 0,
      "outputs": [
        {
          "output_type": "stream",
          "text": [
            "[1,  2000] loss: 1.095\n",
            "[1,  4000] loss: 1.086\n",
            "[1,  6000] loss: 1.056\n",
            "[1,  8000] loss: 1.046\n",
            "[1, 10000] loss: 1.041\n"
          ],
          "name": "stdout"
        }
      ]
    },
    {
      "cell_type": "code",
      "metadata": {
        "colab_type": "code",
        "id": "M5CGfdxOIXKp",
        "outputId": "69d58119-40b1-4ba1-849f-135d56720af9",
        "colab": {
          "base_uri": "https://localhost:8080/",
          "height": 138
        }
      },
      "source": [
        "model = tv.train_and_validate.train(trainloader,device,model, 20)"
      ],
      "execution_count": 0,
      "outputs": [
        {
          "output_type": "stream",
          "text": [
            "[1,  2000] loss: 1.253\n",
            "[1,  4000] loss: 1.231\n",
            "[1,  6000] loss: 1.215\n",
            "[1,  8000] loss: 1.182\n",
            "[1, 10000] loss: 1.151\n",
            "[1, 12000] loss: 1.149\n",
            "Finished Training\n"
          ],
          "name": "stdout"
        }
      ]
    },
    {
      "cell_type": "code",
      "metadata": {
        "id": "dqB008gt5eoN",
        "colab_type": "code",
        "outputId": "a2cc4113-d69b-42b0-c401-5a78952b8c1d",
        "colab": {
          "base_uri": "https://localhost:8080/",
          "height": 35
        }
      },
      "source": [
        "tv.train_and_validate.validate(testloader,device,model)"
      ],
      "execution_count": 0,
      "outputs": [
        {
          "output_type": "stream",
          "text": [
            "Accuracy of the network on the 10000 test images: 42 %\n"
          ],
          "name": "stdout"
        }
      ]
    },
    {
      "cell_type": "code",
      "metadata": {
        "id": "JJwaEZTA9DGO",
        "colab_type": "code",
        "outputId": "60681a94-5830-447b-c375-7eebe5327b8d",
        "colab": {
          "base_uri": "https://localhost:8080/",
          "height": 190
        }
      },
      "source": [
        "tv.train_and_validate.classValidation(testloader,device,model,classes)"
      ],
      "execution_count": 0,
      "outputs": [
        {
          "output_type": "stream",
          "text": [
            "Accuracy of plane : 58 %\n",
            "Accuracy of   car : 52 %\n",
            "Accuracy of  bird : 14 %\n",
            "Accuracy of   cat :  2 %\n",
            "Accuracy of  deer : 30 %\n",
            "Accuracy of   dog : 41 %\n",
            "Accuracy of  frog : 70 %\n",
            "Accuracy of horse : 44 %\n",
            "Accuracy of  ship : 45 %\n",
            "Accuracy of truck : 64 %\n"
          ],
          "name": "stdout"
        }
      ]
    },
    {
      "cell_type": "code",
      "metadata": {
        "id": "zMqeZYML_Dla",
        "colab_type": "code",
        "colab": {}
      },
      "source": [
        ""
      ],
      "execution_count": 0,
      "outputs": []
    }
  ]
}